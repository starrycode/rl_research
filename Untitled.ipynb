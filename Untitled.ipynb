{
 "cells": [
  {
   "cell_type": "code",
   "execution_count": null,
   "id": "ab28397f",
   "metadata": {},
   "outputs": [],
   "source": [
    "from math import comb\n",
    "import random as rd\n",
    "import matplotlib.pyplot as plt\n",
    "import numpy as np\n",
    "\n",
    "def prob(n, r):\n",
    "    val = pow((1 - 1/n), n-r)\n",
    "    val2 = pow((1/n), r)\n",
    "    return comb(n, r) * val2 * val\n",
    "\n",
    "\n",
    "def L(n, k, S):\n",
    "    j = 0\n",
    "    Count = 0\n",
    "\n",
    "    while j == 0:\n",
    "        for i in range(n):\n",
    "            x = rd.randint(1,k)\n",
    "            if x == 1:\n",
    "                j += 1\n",
    "    print(\"j value:\", j)\n",
    "    if j == 1:\n",
    "        return ((1 + S)/(1 - prob(n, 0) - prob(n, n)))\n",
    "    else:\n",
    "        for y in range(2, n-1):\n",
    "            Count += 1\n",
    "            number = L(y, k, S)*prob(n,j)\n",
    "            print(\"NUMBER:\", number)\n",
    "            S += number\n",
    "            print(\"Sum value:\", S)\n",
    "    return ((1 + S)/(1 - prob(n, 0) - prob(n, n)))\n",
    "\n",
    "S = 0\n",
    "Count = 0\n",
    "x = np.array([10, 20, 30, 40, 50])\n",
    "y = []\n",
    "for i in range(50):\n",
    "    Count = Count + 1\n",
    "    y.append(L(i+10, 1000, S))\n",
    "\n",
    "plt.plot(x,y)"
   ]
  },
  {
   "cell_type": "code",
   "execution_count": null,
   "id": "675d8ec6",
   "metadata": {},
   "outputs": [],
   "source": []
  },
  {
   "cell_type": "code",
   "execution_count": null,
   "id": "0e985ced",
   "metadata": {},
   "outputs": [],
   "source": []
  },
  {
   "cell_type": "code",
   "execution_count": null,
   "id": "129a7aac",
   "metadata": {},
   "outputs": [],
   "source": []
  }
 ],
 "metadata": {
  "kernelspec": {
   "display_name": "Python 3",
   "language": "python",
   "name": "python3"
  }
 },
 "nbformat": 4,
 "nbformat_minor": 5
}

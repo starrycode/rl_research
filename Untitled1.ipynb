{
 "cells": [
  {
   "cell_type": "code",
   "execution_count": null,
   "id": "c84e39e1",
   "metadata": {},
   "outputs": [],
   "source": [
    "from math import comb\n",
    "import random as rd\n",
    "\n",
    "def prob(n, r):\n",
    "    val = pow((1 - 1/n), n-r)\n",
    "    val2 = pow((1/n), r)\n",
    "    return comb(n, r) * val2 * val\n",
    "print(prob(2,3))"
   ]
  },
  {
   "cell_type": "code",
   "execution_count": null,
   "id": "d95bd60a",
   "metadata": {},
   "outputs": [],
   "source": []
  },
  {
   "cell_type": "code",
   "execution_count": null,
   "id": "3f87e691",
   "metadata": {},
   "outputs": [],
   "source": []
  },
  {
   "cell_type": "code",
   "execution_count": null,
   "id": "d4e5c1d6",
   "metadata": {},
   "outputs": [],
   "source": []
  }
 ],
 "metadata": {
  "kernelspec": {
   "display_name": "Python 3",
   "language": "python",
   "name": "python3"
  }
 },
 "nbformat": 4,
 "nbformat_minor": 5
}
